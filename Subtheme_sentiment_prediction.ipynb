{
  "nbformat": 4,
  "nbformat_minor": 0,
  "metadata": {
    "colab": {
      "provenance": []
    },
    "kernelspec": {
      "name": "python3",
      "display_name": "Python 3"
    },
    "language_info": {
      "name": "python"
    }
  },
  "cells": [
    {
      "cell_type": "markdown",
      "source": [
        "*Problem Statement* : is to develop an approach that given a sample will identify the subthemes along with their respective sentiments.\n",
        "**SUBTHEME EXTRACTION**"
      ],
      "metadata": {
        "id": "7THXeMqwNgH-"
      }
    },
    {
      "cell_type": "code",
      "execution_count": 48,
      "metadata": {
        "id": "YrtQImvE8LNg"
      },
      "outputs": [],
      "source": [
        "#Importing Necessary libraries\n",
        "import pandas as pd\n",
        "import numpy as np\n",
        "import matplotlib.pyplot as sns\n",
        "%matplotlib inline"
      ]
    },
    {
      "cell_type": "code",
      "source": [
        "df = pd.read_csv(\"/content/Evaluation-dataset.csv\", usecols=[0], names=['Reviews'],header=0)\n"
      ],
      "metadata": {
        "id": "VO34V7b1wR1D"
      },
      "execution_count": 49,
      "outputs": []
    },
    {
      "cell_type": "markdown",
      "source": [
        "Manual engineering was required to get the necessary structure of the dataframe"
      ],
      "metadata": {
        "id": "M9Mwi2AgzPSE"
      }
    },
    {
      "cell_type": "code",
      "source": [
        "df['Reviews'] = df['Reviews'].str.strip('\\\"')\n"
      ],
      "metadata": {
        "id": "ZgO7-WgiwS7m"
      },
      "execution_count": 50,
      "outputs": []
    },
    {
      "cell_type": "code",
      "source": [
        "df.head()"
      ],
      "metadata": {
        "colab": {
          "base_uri": "https://localhost:8080/",
          "height": 206
        },
        "id": "SuqIfshk8wcS",
        "outputId": "9c3d7c39-7d00-47e3-d5e1-439043e7bdd8"
      },
      "execution_count": 51,
      "outputs": [
        {
          "output_type": "execute_result",
          "data": {
            "text/plain": [
              "                                             Reviews\n",
              "0  Tires where delivered to the garage of my choi...\n",
              "1  Easy Tyre Selection Process, Competitive Prici...\n",
              "2         Very easy to use and good value for money.\n",
              "3              Really easy and convenient to arrange\n",
              "4  It was so easy to select tyre sizes and arrang..."
            ],
            "text/html": [
              "\n",
              "  <div id=\"df-48aee7b3-fec0-45fb-abbf-07997d77b3bf\" class=\"colab-df-container\">\n",
              "    <div>\n",
              "<style scoped>\n",
              "    .dataframe tbody tr th:only-of-type {\n",
              "        vertical-align: middle;\n",
              "    }\n",
              "\n",
              "    .dataframe tbody tr th {\n",
              "        vertical-align: top;\n",
              "    }\n",
              "\n",
              "    .dataframe thead th {\n",
              "        text-align: right;\n",
              "    }\n",
              "</style>\n",
              "<table border=\"1\" class=\"dataframe\">\n",
              "  <thead>\n",
              "    <tr style=\"text-align: right;\">\n",
              "      <th></th>\n",
              "      <th>Reviews</th>\n",
              "    </tr>\n",
              "  </thead>\n",
              "  <tbody>\n",
              "    <tr>\n",
              "      <th>0</th>\n",
              "      <td>Tires where delivered to the garage of my choi...</td>\n",
              "    </tr>\n",
              "    <tr>\n",
              "      <th>1</th>\n",
              "      <td>Easy Tyre Selection Process, Competitive Prici...</td>\n",
              "    </tr>\n",
              "    <tr>\n",
              "      <th>2</th>\n",
              "      <td>Very easy to use and good value for money.</td>\n",
              "    </tr>\n",
              "    <tr>\n",
              "      <th>3</th>\n",
              "      <td>Really easy and convenient to arrange</td>\n",
              "    </tr>\n",
              "    <tr>\n",
              "      <th>4</th>\n",
              "      <td>It was so easy to select tyre sizes and arrang...</td>\n",
              "    </tr>\n",
              "  </tbody>\n",
              "</table>\n",
              "</div>\n",
              "    <div class=\"colab-df-buttons\">\n",
              "\n",
              "  <div class=\"colab-df-container\">\n",
              "    <button class=\"colab-df-convert\" onclick=\"convertToInteractive('df-48aee7b3-fec0-45fb-abbf-07997d77b3bf')\"\n",
              "            title=\"Convert this dataframe to an interactive table.\"\n",
              "            style=\"display:none;\">\n",
              "\n",
              "  <svg xmlns=\"http://www.w3.org/2000/svg\" height=\"24px\" viewBox=\"0 -960 960 960\">\n",
              "    <path d=\"M120-120v-720h720v720H120Zm60-500h600v-160H180v160Zm220 220h160v-160H400v160Zm0 220h160v-160H400v160ZM180-400h160v-160H180v160Zm440 0h160v-160H620v160ZM180-180h160v-160H180v160Zm440 0h160v-160H620v160Z\"/>\n",
              "  </svg>\n",
              "    </button>\n",
              "\n",
              "  <style>\n",
              "    .colab-df-container {\n",
              "      display:flex;\n",
              "      gap: 12px;\n",
              "    }\n",
              "\n",
              "    .colab-df-convert {\n",
              "      background-color: #E8F0FE;\n",
              "      border: none;\n",
              "      border-radius: 50%;\n",
              "      cursor: pointer;\n",
              "      display: none;\n",
              "      fill: #1967D2;\n",
              "      height: 32px;\n",
              "      padding: 0 0 0 0;\n",
              "      width: 32px;\n",
              "    }\n",
              "\n",
              "    .colab-df-convert:hover {\n",
              "      background-color: #E2EBFA;\n",
              "      box-shadow: 0px 1px 2px rgba(60, 64, 67, 0.3), 0px 1px 3px 1px rgba(60, 64, 67, 0.15);\n",
              "      fill: #174EA6;\n",
              "    }\n",
              "\n",
              "    .colab-df-buttons div {\n",
              "      margin-bottom: 4px;\n",
              "    }\n",
              "\n",
              "    [theme=dark] .colab-df-convert {\n",
              "      background-color: #3B4455;\n",
              "      fill: #D2E3FC;\n",
              "    }\n",
              "\n",
              "    [theme=dark] .colab-df-convert:hover {\n",
              "      background-color: #434B5C;\n",
              "      box-shadow: 0px 1px 3px 1px rgba(0, 0, 0, 0.15);\n",
              "      filter: drop-shadow(0px 1px 2px rgba(0, 0, 0, 0.3));\n",
              "      fill: #FFFFFF;\n",
              "    }\n",
              "  </style>\n",
              "\n",
              "    <script>\n",
              "      const buttonEl =\n",
              "        document.querySelector('#df-48aee7b3-fec0-45fb-abbf-07997d77b3bf button.colab-df-convert');\n",
              "      buttonEl.style.display =\n",
              "        google.colab.kernel.accessAllowed ? 'block' : 'none';\n",
              "\n",
              "      async function convertToInteractive(key) {\n",
              "        const element = document.querySelector('#df-48aee7b3-fec0-45fb-abbf-07997d77b3bf');\n",
              "        const dataTable =\n",
              "          await google.colab.kernel.invokeFunction('convertToInteractive',\n",
              "                                                    [key], {});\n",
              "        if (!dataTable) return;\n",
              "\n",
              "        const docLinkHtml = 'Like what you see? Visit the ' +\n",
              "          '<a target=\"_blank\" href=https://colab.research.google.com/notebooks/data_table.ipynb>data table notebook</a>'\n",
              "          + ' to learn more about interactive tables.';\n",
              "        element.innerHTML = '';\n",
              "        dataTable['output_type'] = 'display_data';\n",
              "        await google.colab.output.renderOutput(dataTable, element);\n",
              "        const docLink = document.createElement('div');\n",
              "        docLink.innerHTML = docLinkHtml;\n",
              "        element.appendChild(docLink);\n",
              "      }\n",
              "    </script>\n",
              "  </div>\n",
              "\n",
              "\n",
              "<div id=\"df-bfcd31c5-7834-4e57-ac89-fdbfd8f80521\">\n",
              "  <button class=\"colab-df-quickchart\" onclick=\"quickchart('df-bfcd31c5-7834-4e57-ac89-fdbfd8f80521')\"\n",
              "            title=\"Suggest charts\"\n",
              "            style=\"display:none;\">\n",
              "\n",
              "<svg xmlns=\"http://www.w3.org/2000/svg\" height=\"24px\"viewBox=\"0 0 24 24\"\n",
              "     width=\"24px\">\n",
              "    <g>\n",
              "        <path d=\"M19 3H5c-1.1 0-2 .9-2 2v14c0 1.1.9 2 2 2h14c1.1 0 2-.9 2-2V5c0-1.1-.9-2-2-2zM9 17H7v-7h2v7zm4 0h-2V7h2v10zm4 0h-2v-4h2v4z\"/>\n",
              "    </g>\n",
              "</svg>\n",
              "  </button>\n",
              "\n",
              "<style>\n",
              "  .colab-df-quickchart {\n",
              "      --bg-color: #E8F0FE;\n",
              "      --fill-color: #1967D2;\n",
              "      --hover-bg-color: #E2EBFA;\n",
              "      --hover-fill-color: #174EA6;\n",
              "      --disabled-fill-color: #AAA;\n",
              "      --disabled-bg-color: #DDD;\n",
              "  }\n",
              "\n",
              "  [theme=dark] .colab-df-quickchart {\n",
              "      --bg-color: #3B4455;\n",
              "      --fill-color: #D2E3FC;\n",
              "      --hover-bg-color: #434B5C;\n",
              "      --hover-fill-color: #FFFFFF;\n",
              "      --disabled-bg-color: #3B4455;\n",
              "      --disabled-fill-color: #666;\n",
              "  }\n",
              "\n",
              "  .colab-df-quickchart {\n",
              "    background-color: var(--bg-color);\n",
              "    border: none;\n",
              "    border-radius: 50%;\n",
              "    cursor: pointer;\n",
              "    display: none;\n",
              "    fill: var(--fill-color);\n",
              "    height: 32px;\n",
              "    padding: 0;\n",
              "    width: 32px;\n",
              "  }\n",
              "\n",
              "  .colab-df-quickchart:hover {\n",
              "    background-color: var(--hover-bg-color);\n",
              "    box-shadow: 0 1px 2px rgba(60, 64, 67, 0.3), 0 1px 3px 1px rgba(60, 64, 67, 0.15);\n",
              "    fill: var(--button-hover-fill-color);\n",
              "  }\n",
              "\n",
              "  .colab-df-quickchart-complete:disabled,\n",
              "  .colab-df-quickchart-complete:disabled:hover {\n",
              "    background-color: var(--disabled-bg-color);\n",
              "    fill: var(--disabled-fill-color);\n",
              "    box-shadow: none;\n",
              "  }\n",
              "\n",
              "  .colab-df-spinner {\n",
              "    border: 2px solid var(--fill-color);\n",
              "    border-color: transparent;\n",
              "    border-bottom-color: var(--fill-color);\n",
              "    animation:\n",
              "      spin 1s steps(1) infinite;\n",
              "  }\n",
              "\n",
              "  @keyframes spin {\n",
              "    0% {\n",
              "      border-color: transparent;\n",
              "      border-bottom-color: var(--fill-color);\n",
              "      border-left-color: var(--fill-color);\n",
              "    }\n",
              "    20% {\n",
              "      border-color: transparent;\n",
              "      border-left-color: var(--fill-color);\n",
              "      border-top-color: var(--fill-color);\n",
              "    }\n",
              "    30% {\n",
              "      border-color: transparent;\n",
              "      border-left-color: var(--fill-color);\n",
              "      border-top-color: var(--fill-color);\n",
              "      border-right-color: var(--fill-color);\n",
              "    }\n",
              "    40% {\n",
              "      border-color: transparent;\n",
              "      border-right-color: var(--fill-color);\n",
              "      border-top-color: var(--fill-color);\n",
              "    }\n",
              "    60% {\n",
              "      border-color: transparent;\n",
              "      border-right-color: var(--fill-color);\n",
              "    }\n",
              "    80% {\n",
              "      border-color: transparent;\n",
              "      border-right-color: var(--fill-color);\n",
              "      border-bottom-color: var(--fill-color);\n",
              "    }\n",
              "    90% {\n",
              "      border-color: transparent;\n",
              "      border-bottom-color: var(--fill-color);\n",
              "    }\n",
              "  }\n",
              "</style>\n",
              "\n",
              "  <script>\n",
              "    async function quickchart(key) {\n",
              "      const quickchartButtonEl =\n",
              "        document.querySelector('#' + key + ' button');\n",
              "      quickchartButtonEl.disabled = true;  // To prevent multiple clicks.\n",
              "      quickchartButtonEl.classList.add('colab-df-spinner');\n",
              "      try {\n",
              "        const charts = await google.colab.kernel.invokeFunction(\n",
              "            'suggestCharts', [key], {});\n",
              "      } catch (error) {\n",
              "        console.error('Error during call to suggestCharts:', error);\n",
              "      }\n",
              "      quickchartButtonEl.classList.remove('colab-df-spinner');\n",
              "      quickchartButtonEl.classList.add('colab-df-quickchart-complete');\n",
              "    }\n",
              "    (() => {\n",
              "      let quickchartButtonEl =\n",
              "        document.querySelector('#df-bfcd31c5-7834-4e57-ac89-fdbfd8f80521 button');\n",
              "      quickchartButtonEl.style.display =\n",
              "        google.colab.kernel.accessAllowed ? 'block' : 'none';\n",
              "    })();\n",
              "  </script>\n",
              "</div>\n",
              "\n",
              "    </div>\n",
              "  </div>\n"
            ],
            "application/vnd.google.colaboratory.intrinsic+json": {
              "type": "dataframe",
              "variable_name": "df",
              "summary": "{\n  \"name\": \"df\",\n  \"rows\": 10132,\n  \"fields\": [\n    {\n      \"column\": \"Reviews\",\n      \"properties\": {\n        \"dtype\": \"string\",\n        \"num_unique_values\": 10128,\n        \"samples\": [\n          \"Even if you don\\u2019t know what you want the website is easy to use for choosing tyres and booking appointments. The partner garage was friendly, prompt and professional. Would recommend to anyone - and do.\",\n          \"Excellent price, superb service. Chose to have tyres fitted at home, fitters confirmed booking, then called to see if an earlier appointment could suit as tyres arrived early, polite, professional and not at all pushy.\",\n          \"I have used you in the past and had excellent service, the past company I had the tyres fitted at were excellent, but no longer one of your options for fitting now. I chose your premium fitter in Basingstoke, Formula One Auto - and they were awful. Their customer service was non existent. I phoned up and got a quote for having the wheels tracked, they quoted \\u00a336 for front and \\u00a352 for front and back if needed, but I probably only had the fronts that it was possible to do. With this I sent my husband to have the tyres fitted, so when they charged him \\u00a348 he paid assuming it had been front and back that needed. They took nearly 23 hours from our apointment to fit the tyres, way longer than it should have for 4 tyres. I phoned them and said that the paperwork clearly stated only the front had been balanced and was given a wishy washy excuse for the over charge, which, because I know about cars I knew to be rubbish, he then said that they couldn't refund the over charge directly and needed to have a cheque sent to me, which I would get in a week. I then discovered the next day when I took the car out for a drive that they had under inflated all of the tyres by 5 to 7 psi. After 10 days I phoned back and advised the regional manager who answered the phone at the branch about the under inlfation and that the cheque had not arrived. I was promised a call back, which never came. A week later I chased again, again promised a call back and again did not hear from them. A few days later I called again and got the regional manager again who promised a call back, but still did not call. a few days later I eventually got the cheque refund through. The tyres themselves are good, but the company who represents you for fitting is by far one of the worse and clearly try to take advantage of people who they think know nothing about cars. Thankfully although my husband doesn't I do, it is disgusting that they tried to take advantage and over charge people. So for that reason whilst I may still recommend [REDACTED] for tyres I would be very, very, very careful about who fits mine in the future and advise anyone else to be too.\"\n        ],\n        \"semantic_type\": \"\",\n        \"description\": \"\"\n      }\n    }\n  ]\n}"
            }
          },
          "metadata": {},
          "execution_count": 51
        }
      ]
    },
    {
      "cell_type": "code",
      "source": [
        "print(\"Total rows:\", df.shape[0])\n"
      ],
      "metadata": {
        "id": "OAeVXutFv44u",
        "outputId": "45313570-0263-45ae-c0e2-3f0a55623ed4",
        "colab": {
          "base_uri": "https://localhost:8080/"
        }
      },
      "execution_count": 52,
      "outputs": [
        {
          "output_type": "stream",
          "name": "stdout",
          "text": [
            "Total rows: 10132\n"
          ]
        }
      ]
    },
    {
      "cell_type": "markdown",
      "source": [
        "Here we can see no rows are missing and we have the full dataframe"
      ],
      "metadata": {
        "id": "ZX9J5neRzcQ0"
      }
    },
    {
      "cell_type": "code",
      "source": [
        "#Importing necessary libraries for Natural Language Processing\n",
        "import pandas as pd\n",
        "from nltk.tokenize import word_tokenize\n",
        "from nltk import pos_tag\n",
        "from textblob import TextBlob\n",
        "from nltk.corpus import stopwords\n",
        "from nltk.stem import WordNetLemmatizer\n",
        "import nltk\n",
        "nltk.download('stopwords')\n",
        "nltk.download('punkt')\n",
        "nltk.download('wordnet')\n",
        "nltk.download('averaged_perceptron_tagger')"
      ],
      "metadata": {
        "id": "D9jytHGPyLq5",
        "outputId": "ff6e2f8b-6e5a-42ca-f094-d9c02455a1ad",
        "colab": {
          "base_uri": "https://localhost:8080/"
        }
      },
      "execution_count": 53,
      "outputs": [
        {
          "output_type": "stream",
          "name": "stderr",
          "text": [
            "[nltk_data] Downloading package stopwords to /root/nltk_data...\n",
            "[nltk_data]   Package stopwords is already up-to-date!\n",
            "[nltk_data] Downloading package punkt to /root/nltk_data...\n",
            "[nltk_data]   Package punkt is already up-to-date!\n",
            "[nltk_data] Downloading package wordnet to /root/nltk_data...\n",
            "[nltk_data]   Package wordnet is already up-to-date!\n",
            "[nltk_data] Downloading package averaged_perceptron_tagger to\n",
            "[nltk_data]     /root/nltk_data...\n",
            "[nltk_data]   Package averaged_perceptron_tagger is already up-to-\n",
            "[nltk_data]       date!\n"
          ]
        },
        {
          "output_type": "execute_result",
          "data": {
            "text/plain": [
              "True"
            ]
          },
          "metadata": {},
          "execution_count": 53
        }
      ]
    },
    {
      "cell_type": "markdown",
      "source": [
        "Here we preprocess the data\n",
        "\n",
        "*   Type checking for string\n",
        "*   Tokenization\n",
        "*   Stopword removal\n",
        "\n",
        "\n",
        "\n",
        "\n",
        "\n"
      ],
      "metadata": {
        "id": "oq8ttcpzOKpR"
      }
    },
    {
      "cell_type": "code",
      "source": [
        "#Preprocessing the data\n",
        "lemmatizer = WordNetLemmatizer()\n",
        "stop_words = set(stopwords.words('english'))\n",
        "\n",
        "def clean(review):\n",
        "    if not isinstance(review, str):#Handling non-empty strings\n",
        "        review = ''\n",
        "    tokens = word_tokenize(review)\n",
        "    preprocessed = [lemmatizer.lemmatize(word.lower()) for word in tokens if word.isalnum() and word.lower() not in stop_words]\n",
        "    return preprocessed"
      ],
      "metadata": {
        "id": "RXA-TgiS9PEb"
      },
      "execution_count": 54,
      "outputs": []
    },
    {
      "cell_type": "markdown",
      "source": [
        " **Since we have the preprocessed corpus**\n",
        "\n",
        " We now create function to extract subthemes using part-of-speech tagging to identify subthemes based on nouns, adjectives etc.\n",
        "\n",
        " We will then use Textblob to identify the theme\n"
      ],
      "metadata": {
        "id": "pb0sjhYb-0dm"
      }
    },
    {
      "cell_type": "code",
      "source": [
        "#Function for extraction of subtheme\n",
        "def subtheme_sentiment(review, pos_tags):\n",
        "    if not isinstance(review, str) or not isinstance(pos_tags, list) or not pos_tags:\n",
        "        return {}\n",
        "    extracted_subthemes = []\n",
        "    current_subtheme = []\n",
        "    for word, pos in pos_tags:\n",
        "      #part-of-sppech tags to identify themes with nouns, verbs etc..\n",
        "        if pos.startswith('NN') or pos.startswith('JJ') or pos.startswith('RB') or pos.startswith('VB'):\n",
        "            current_subtheme.append(word)\n",
        "        else:\n",
        "            if current_subtheme:\n",
        "                extracted_subthemes.append(\" \".join(current_subtheme))\n",
        "                current_subtheme = []\n",
        "    if current_subtheme:\n",
        "        extracted_subthemes.append(\" \".join(current_subtheme))\n",
        "    sentiments = {}\n",
        "    for theme in extracted_subthemes:\n",
        "        theme_blob = TextBlob(theme)\n",
        "        sentiment_score = theme_blob.sentiment.polarity\n",
        "        sentiment_label = \"positive\" if sentiment_score > 0 else \"negative\" if sentiment_score < 0 else \"neutral\"\n",
        "        sentiments[theme] = sentiment_label\n",
        "    return sentiments"
      ],
      "metadata": {
        "id": "9a4cbo9-ylJ6"
      },
      "execution_count": 55,
      "outputs": []
    },
    {
      "cell_type": "code",
      "source": [
        "#We take the given example in the assignment\n",
        "\"\"\"One tyre went missing, so there was a delay to get the two tyres fitted. The way garage dealtwith it was fantastic.\"\"\"\n",
        "\n",
        "message = 'One tyre went missing, so there was a delay to get the two tyres fitted. The way garage dealt with it was fantastic.'\n",
        "\n",
        "cleaned_words = clean(message)\n",
        "tagged_words = pos_tag(cleaned_words)\n",
        "final_result =subtheme_sentiment(message, tagged_words)\n",
        "print(final_result)\n",
        "\n"
      ],
      "metadata": {
        "colab": {
          "base_uri": "https://localhost:8080/"
        },
        "id": "w5Ja8NyzAMKV",
        "outputId": "2f449ec9-bf5b-46e1-bdc1-0a433afd0203"
      },
      "execution_count": 56,
      "outputs": [
        {
          "output_type": "stream",
          "name": "stdout",
          "text": [
            "{'tyre went missing delay get': 'negative', 'tyre fitted way garage dealt fantastic': 'positive'}\n"
          ]
        }
      ]
    },
    {
      "cell_type": "markdown",
      "source": [
        "Up above we can see that we got the subtheme sentiments; further moving on we predict it for the whole dataframe"
      ],
      "metadata": {
        "id": "sQrYN7ImDs5h"
      }
    },
    {
      "cell_type": "code",
      "source": [
        "def pred_dataframe(df, text_column):\n",
        "    subthemes = []\n",
        "    sentiments = []\n",
        "    for review in df[text_column]:\n",
        "        cleaned_words = clean(review)\n",
        "        tagged_words = pos_tag(cleaned_words)\n",
        "        result = subtheme_sentiment(review, tagged_words)\n",
        "        for subtheme, sentiment in result.items():\n",
        "            subthemes.append(subtheme)\n",
        "            sentiments.append(sentiment)\n",
        "    result_df = pd.DataFrame({\n",
        "        'subtheme': subthemes,\n",
        "        'sentiment': sentiments\n",
        "    })\n",
        "    return result_df\n"
      ],
      "metadata": {
        "id": "5_7QA_OQzDBK"
      },
      "execution_count": 57,
      "outputs": []
    },
    {
      "cell_type": "code",
      "source": [
        "#Final result\n",
        "result_df = pred_dataframe(df, 'Reviews')\n",
        "print(result_df)"
      ],
      "metadata": {
        "id": "KZEGDl_jzD33",
        "outputId": "649d8de4-74e2-42cd-a371-7dc277958e5e",
        "colab": {
          "base_uri": "https://localhost:8080/"
        }
      },
      "execution_count": 58,
      "outputs": [
        {
          "output_type": "stream",
          "name": "stdout",
          "text": [
            "                                                subtheme sentiment\n",
            "0      tire delivered garage choice garage notified d...  positive\n",
            "1      easy tyre selection process competitive pricin...  positive\n",
            "2                              easy use good value money  positive\n",
            "3                         really easy convenient arrange  positive\n",
            "4      easy select tyre size arrange local fitting pr...  positive\n",
            "...                                                  ...       ...\n",
            "16113  ordered tyre needed line booked specified time...   neutral\n",
            "16114          use redacted good price tyre quick search  positive\n",
            "16115  excellent service point order fitting complain...  positive\n",
            "16116                          seamless well managed end  positive\n",
            "16117                                          recommend   neutral\n",
            "\n",
            "[16118 rows x 2 columns]\n"
          ]
        }
      ]
    },
    {
      "cell_type": "markdown",
      "source": [
        "#Thank You!"
      ],
      "metadata": {
        "id": "hHWoXQVpz9nq"
      }
    },
    {
      "cell_type": "code",
      "source": [],
      "metadata": {
        "id": "IBbfrlXc0Bct"
      },
      "execution_count": null,
      "outputs": []
    }
  ]
}